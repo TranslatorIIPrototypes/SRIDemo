{
 "cells": [
  {
   "cell_type": "markdown",
   "metadata": {
    "slideshow": {
     "slide_type": "slide"
    }
   },
   "source": [
    "# SRI Services"
   ]
  },
  {
   "cell_type": "markdown",
   "metadata": {
    "slideshow": {
     "slide_type": "slide"
    }
   },
   "source": [
    "## 1. Biolink Lookup\n",
    "\n",
    "The Biolink Model defines a set of common concepts for use in Translator.  These include semantic types for entities, as well as the relations between them.  These concepts are organized into an inheritance hierarchy capturing different granularities of description. Furthermore, each concept contains metadata relating the concept to ontologies.\n",
    "\n",
    "The Biolink Model is formally maintained in Github [here](http://github.com/biolink/biolink-model/).  The Biolink Lookup [service](https://bl-lookup-sri.renci.org/apidocs/) provides a computational interface to the model, including access to previous versions.   When the service is deployed, it queries the Biolink Github repository, and updates itself to access the latest version."
   ]
  },
  {
   "cell_type": "code",
   "execution_count": null,
   "metadata": {},
   "outputs": [],
   "source": [
    "import requests\n",
    "import json"
   ]
  },
  {
   "cell_type": "markdown",
   "metadata": {
    "slideshow": {
     "slide_type": "slide"
    }
   },
   "source": [
    "### Concept Lookup\n",
    "\n",
    "Biolink concepts can be retrieved to inspect their properties:"
   ]
  },
  {
   "cell_type": "code",
   "execution_count": null,
   "metadata": {
    "scrolled": true,
    "slideshow": {
     "slide_type": "subslide"
    }
   },
   "outputs": [],
   "source": [
    "response = requests.get('https://bl-lookup-sri.renci.org/bl/chemical_substance')\n",
    "print( json.dumps(response.json (),indent = 2 ))"
   ]
  },
  {
   "cell_type": "markdown",
   "metadata": {
    "slideshow": {
     "slide_type": "slide"
    }
   },
   "source": [
    "### Versions\n",
    "\n",
    "Because the service allows access to multiple versions of Biolink, this function returns the list of versions that can passed as a parameter to subsequent calls.  Here, there are 3 versions: \n",
    "* **latest** which always points to the current master branch.\n",
    "* **1.2.1** An older version of the Biolink model\n",
    "* **custom** which is a special tag pointing at a branch of the model."
   ]
  },
  {
   "cell_type": "code",
   "execution_count": null,
   "metadata": {
    "scrolled": true,
    "slideshow": {
     "slide_type": "subslide"
    }
   },
   "outputs": [],
   "source": [
    "response = requests.get('https://bl-lookup-sri.renci.org/versions/')\n",
    "print(json.dumps(response.json(),indent=2))"
   ]
  },
  {
   "cell_type": "markdown",
   "metadata": {},
   "source": [
    "## 2. Node Normalization\n",
    "\n",
    "[Node normalization](https://nodenormalization-sri.renci.org/apidocs) takes a CURIE, and returns:\n",
    "\n",
    "* The preferred CURIE for this entity\n",
    "* All other known equivalent identifiers for the entity\n",
    "* Semantic types for the entity as defined by the [Biolink Model](https://biolink.github.io/biolink-model/)\n",
    "\n",
    "The data currently served by Node Normalization is created by the prototype project [Babel](https://github.com/TranslatorIIPrototypes/Babel), which attempts to find identifier equivalences, and makes sure that CURIE prefixes are Biolink Model compliant.  NodeNormalization, however, is independent of Babel and as improved identifier equivalence tools are developed, their results can be easily incorporated."
   ]
  },
  {
   "cell_type": "markdown",
   "metadata": {},
   "source": [
    "In this example, `get_normalized_node` is called with a MeSH identifier.   MeSH contains many different semantic types, but the service correctly identifies the term."
   ]
  },
  {
   "cell_type": "code",
   "execution_count": null,
   "metadata": {
    "scrolled": true
   },
   "outputs": [],
   "source": [
    "result = requests.get('https://nodenormalization-sri.renci.org/get_normalized_nodes',\n",
    "                     params={'curie':\"MESH:D014867\"})\n",
    "print( json.dumps( result.json(), indent = 2))"
   ]
  },
  {
   "cell_type": "markdown",
   "metadata": {
    "slideshow": {
     "slide_type": "slide"
    }
   },
   "source": [
    "## 3. Edge Normalization\n",
    "\n",
    "The [Biolink Model](https://biolink.github.io/biolink-model/) defines allowed predicates in the Translator ecosystem.  Ingesting data from arbitrary sources requires mapping predicates in those sources to Translator predicates. \n",
    " \n",
    "The [EdgeNormalization Service](https://edgenormalization-sri.renci.org/apidocs) can find predicates if they have an exact mapping in the model.  The EdgeNormalization service takes this a step further, and attempts to find the best match to a Biolink predicate, even if there is not an explicit mapping. "
   ]
  },
  {
   "cell_type": "markdown",
   "metadata": {},
   "source": [
    "### Find BioLink Predicate for unmapped term\n",
    "\n",
    "EdgeNormalization can also return the best Biolink predicate for an unmapped term.  At the moment, this functionality is limited to terms from Relation Ontology (RO).   Here, we will begin with `RO:0002354 (formed as a result of)`. Checking the [Biolink Lookup Service](https://bl-lookup-sri.renci.org/apidocs/) we can see that there is no direct mapping:"
   ]
  },
  {
   "cell_type": "code",
   "execution_count": null,
   "metadata": {},
   "outputs": [],
   "source": [
    "response=requests.get('https://bl-lookup-sri.renci.org/uri_lookup/RO:0002354')\n",
    "print(response.status_code)\n",
    "props = response.json()\n",
    "print(props)"
   ]
  },
  {
   "cell_type": "markdown",
   "metadata": {},
   "source": [
    "However, if we call EdgeNormalization, we are returned a suitable Biolink Model predicate:"
   ]
  },
  {
   "cell_type": "code",
   "execution_count": null,
   "metadata": {},
   "outputs": [],
   "source": [
    "response = requests.get('https://edgenormalization-sri.renci.org/resolve_predicate',\n",
    "                        params={'predicate':['RO:0002354']})\n",
    "print( json.dumps(response.json(), indent=2))"
   ]
  },
  {
   "cell_type": "markdown",
   "metadata": {},
   "source": [
    "This particular term was returned because it is a superclass of the original term that also maps directly to Biolink:"
   ]
  },
  {
   "cell_type": "markdown",
   "metadata": {},
   "source": [
    "![alt text](RelationOntology.png \"Relations\")"
   ]
  },
  {
   "cell_type": "markdown",
   "metadata": {},
   "source": [
    "## 4. Name Resolution\n",
    "\n",
    "Translator tools use strong identifiers for concepts, such as compact URIs (curies) from an ontology.  The [NameResolution sevice](https://nameresolution-sri.renci.org) allows lookup of these curies based on a lexical name.  The identifiers retrieved may then be used as input to various Translator tools.\n",
    "\n",
    "Suppose that a user has the text string \"diabetes\" and we want to turn it into an identifier.  There are many concepts that might be appropriate.  Perhaps they are looking for the identifier for the disease \"Diabetes Mellitus\".  Or perhaps they are looking for a subtype such as \"Type 2 Diabetes Mellitus\".  Or perhaps they are looking for \"diabetes drugs\".  This service searches the lexical synonyms of concepts and returns those identifiers as well as the full set of synonyms for each of the returned identifiers."
   ]
  },
  {
   "cell_type": "code",
   "execution_count": null,
   "metadata": {},
   "outputs": [],
   "source": [
    "nr_url = 'http://robokop.renci.org:2434/lookup'"
   ]
  },
  {
   "cell_type": "code",
   "execution_count": null,
   "metadata": {},
   "outputs": [],
   "source": [
    "params = {'string':'type 2 diabetes'}\n",
    "response = requests.post(nr_url,params=params)\n",
    "print(json.dumps(response.json(),indent=1))"
   ]
  }
 ],
 "metadata": {
  "kernelspec": {
   "display_name": "Python 3",
   "language": "python",
   "name": "python3"
  },
  "language_info": {
   "codemirror_mode": {
    "name": "ipython",
    "version": 3
   },
   "file_extension": ".py",
   "mimetype": "text/x-python",
   "name": "python",
   "nbconvert_exporter": "python",
   "pygments_lexer": "ipython3",
   "version": "3.7.5"
  },
  "rise": {
   "scroll": true
  }
 },
 "nbformat": 4,
 "nbformat_minor": 2
}
